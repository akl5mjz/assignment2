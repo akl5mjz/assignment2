{
  "cells": [
    {
      "cell_type": "markdown",
      "metadata": {
        "id": "view-in-github",
        "colab_type": "text"
      },
      "source": [
        "<a href=\"https://colab.research.google.com/github/akl5mjz/assignment2/blob/main/assignment2.ipynb\" target=\"_parent\"><img src=\"https://colab.research.google.com/assets/colab-badge.svg\" alt=\"Open In Colab\"/></a>"
      ]
    },
    {
      "cell_type": "markdown",
      "id": "13ad028b-72b7-43ed-aa78-96fd4e518040",
      "metadata": {
        "id": "13ad028b-72b7-43ed-aa78-96fd4e518040"
      },
      "source": [
        "# Assignment: Data Wrangling and Exploratory Data Analysis\n",
        "## Do Q1 and Q2, and one other question.\n",
        "`! git clone https://www.github.com/DS3001/assignment2`"
      ]
    },
    {
      "cell_type": "code",
      "source": [
        "! git clone https://www.github.com/akl5mjz/assignment2"
      ],
      "metadata": {
        "id": "hRWh0I2vUOVY",
        "outputId": "174fbfac-d169-48d4-bbed-79bd5e5f4ab4",
        "colab": {
          "base_uri": "https://localhost:8080/"
        }
      },
      "id": "hRWh0I2vUOVY",
      "execution_count": 1,
      "outputs": [
        {
          "output_type": "stream",
          "name": "stdout",
          "text": [
            "Cloning into 'assignment2'...\n",
            "warning: redirecting to https://github.com/akl5mjz/assignment2.git/\n",
            "remote: Enumerating objects: 36, done.\u001b[K\n",
            "remote: Counting objects: 100% (12/12), done.\u001b[K\n",
            "remote: Compressing objects: 100% (7/7), done.\u001b[K\n",
            "remote: Total 36 (delta 8), reused 5 (delta 5), pack-reused 24\u001b[K\n",
            "Receiving objects: 100% (36/36), 5.47 MiB | 20.29 MiB/s, done.\n",
            "Resolving deltas: 100% (9/9), done.\n"
          ]
        }
      ]
    },
    {
      "cell_type": "markdown",
      "id": "5735a4d4-8be8-433a-a351-70eb8002e632",
      "metadata": {
        "id": "5735a4d4-8be8-433a-a351-70eb8002e632"
      },
      "source": [
        "**Q1.** Open the \"tidy_data.pdf\" document in the repo, which is a paper called Tidy Data by Hadley Wickham.\n",
        "\n",
        "  1. Read the abstract. What is this paper about?\n",
        "  2. Read the introduction. What is the \"tidy data standard\" intended to accomplish?\n",
        "  3. Read the intro to section 2. What does this sentence mean: \"Like families, tidy datasets are all alike but every messy dataset is messy in its own way.\" What does this sentence mean: \"For a given dataset, it’s usually easy to figure out what are observations and what are variables, but it is surprisingly difficult to precisely define variables and observations in general.\"\n",
        "  4. Read Section 2.2. How does Wickham define values, variables, and observations?\n",
        "  5. How is \"Tidy Data\" defined in section 2.3?\n",
        "  6. Read the intro to Section 3 and Section 3.1. What are the 5 most common problems with messy datasets? Why are the data in Table 4 messy? What is \"melting\" a dataset?\n",
        "  7. Why, specifically, is table 11 messy but table 12 tidy and \"molten\"?\n",
        "  8. Read Section 6. What is the \"chicken-and-egg\" problem with focusing on tidy data? What does Wickham hope happens in the future with further work on the subject of data wrangling?"
      ]
    },
    {
      "cell_type": "markdown",
      "source": [
        "\n",
        "1.  The paper is about an often overlooked, but very important,  \n",
        "   aspect of data cleaning: data tydying. Becuase of its specific structure, tidy datasets are easy to manipulate, model, and visualize.\n",
        "2.  The tidy data standard is intended to facilitate initial\n",
        "   exploration and analysis of data, and to simplify the development of data analysis tools that work well together.\n",
        "3.  The sentence \"like families, tidy datasets are all alike but\n",
        "   every messy dataset is messy in its own way\" means that there are many different and unique ways a dataset can be untidy.\n",
        "\n",
        "    The sentence \"for a given dataset, it’s usually easy to figure out what are observations and what are variables, but it is surprisingly difficult to precisely define variables and observations in general\" means that deciphering between what the observations and variables are is generally intuitive. However, when looking at what each is defined as, it becomes more difficult because the definitions are dependent on the context. In some cases, an observation can be treated as a variable, and vice versa.\n",
        "4.  Wickham defines values as elements, numbers of strings, of a\n",
        "   dataset. Variables contain all values that measure the same underlying attribute across units. Observations contain all values measured on the same unit across attributes.\n",
        "5.  Tidy data is a standard way of mapping the meaning of a dataset\n",
        "   to its structure. In tidy data, each variable forms a column, each observation forms a row, and each type of pbservational unit forms a table.\n",
        "6. The five most common problems with messy datasets are:\n",
        "      * Column headers are values, not variable names\n",
        "      * Multiple variables are stored in one column\n",
        "      * Variables are stored in both rows and columns\n",
        "      * Multiple types of observational units are stored in the same table\n",
        "      * A single observational unit is stored in mmultiple tables\n",
        "  \n",
        "    The data in Table 4 is messy because it has three variables: religion, income, and frequency. Melting a dataset refers to turning columns into rows and is parameterized by a list of columns that are already variables.\n",
        "7.   Table 11 is messy because it has a column for each day of the\n",
        "   month, resulting in many rows having empty space. Table 12 is molten becasue it combined the columns and \"melted\" them into seperate rows. The table became tidy by making each row its own seperate observation.\n",
        "8. The chicken-and-egg problem refers to if tidy data is only as\n",
        "   useful as the tools that work with it, then tidy tools will be inextricably linked to tidy data.\n",
        "\n",
        "    Wickham hopes that others will build on this framework to develop even better data storage strategies and better tools.\n",
        "\n",
        "\n",
        "\n"
      ],
      "metadata": {
        "id": "VxvktI-3UFZs"
      },
      "id": "VxvktI-3UFZs"
    },
    {
      "cell_type": "markdown",
      "id": "da879ea7-8aac-48a3-b6c2-daea56d2e072",
      "metadata": {
        "id": "da879ea7-8aac-48a3-b6c2-daea56d2e072"
      },
      "source": [
        "**Q2.** This question provides some practice cleaning variables which have common problems.\n",
        "1. Numeric variable: For `./data/airbnb_hw.csv`, clean the `Price` variable as well as you can, and explain the choices you make. How many missing values do you end up with? (Hint: What happens to the formatting when a price goes over 999 dollars, say from 675 to 1,112?)\n",
        "2. Categorical variable: For the `./data/sharks.csv` data covered in the lecture, clean the \"Type\" variable as well as you can, and explain the choices you make.\n",
        "3. Dummy variable: For the pretrial data covered in the lecture, clean the `WhetherDefendantWasReleasedPretrial` variable as well as you can, and, in particular, replace missing values with `np.nan`.\n",
        "4. Missing values, not at random: For the pretrial data covered in the lecture, clean the `ImposedSentenceAllChargeInContactEvent` variable as well as you can, and explain the choices you make. (Hint: Look at the `SentenceTypeAllChargesAtConvictionInContactEvent` variable.)"
      ]
    },
    {
      "cell_type": "code",
      "source": [
        "# 2.1\n",
        "\n",
        "import numpy as np\n",
        "import pandas as pd\n",
        "\n",
        "airbnb = pd.read_csv('/content/assignment2/data/airbnb_hw.csv', low_memory = False)\n",
        "\n",
        "price = 'Price'\n",
        "\n",
        "# Changed the values to numeric values, removing commas, to allow the data to be more effectively used.\n",
        "airbnb[price] = pd.to_numeric(airbnb[price], errors = 'coerce')\n",
        "\n",
        "print(airbnb)"
      ],
      "metadata": {
        "id": "FBEdBam25ekk"
      },
      "id": "FBEdBam25ekk",
      "execution_count": null,
      "outputs": []
    },
    {
      "cell_type": "code",
      "source": [
        "# 2.2\n",
        "\n",
        "import numpy as np\n",
        "import pandas as pd\n",
        "\n",
        "sharks = pd.read_csv('/content/assignment2/data/sharks.csv', low_memory = False)\n",
        "type = 'Type'\n",
        "\n",
        "# Replaced empty cells with 'Nan' to create a dummy variables for missing data.\n",
        "sharks[type] = sharks[type].replace(' ', np.nan)\n",
        "\n",
        "# Replaced 'Boat', 'Boating', 'Boatomg', and 'Watercraft' with 'Provoked'\n",
        "# becasue the shark was affected by inorganic causes.\n",
        "sharks[type] = sharks[type].replace('Boat', 'Provoked')\n",
        "sharks[type] = sharks[type].replace('Boating', 'Provoked')\n",
        "sharks[type] = sharks[type].replace('Boatomg', 'Provoked')\n",
        "sharks[type] = sharks[type].replace('Watercraft', 'Provoked')\n",
        "\n",
        "# Replaced 'Sea Disaster' with 'Unprovoked' becasue the shark attack occured due\n",
        "# to natural, unalterable events.\n",
        "sharks[type] = sharks[type].replace('Sea Disaster', 'Unprovoked')\n",
        "\n",
        "# Replaced 'Questionable', 'Invalid', \"Unconfirmed', and 'Under Investigation'\n",
        "# with 'Unverified due to the similar definitions of each term.\"\n",
        "sharks[type] = sharks[type].replace('Questionable', 'Unverified')\n",
        "sharks[type] = sharks[type].replace('Invalid', 'Unverified')\n",
        "sharks[type] = sharks[type].replace('Unconfirmed', 'Unverified')\n",
        "sharks[type] = sharks[type].replace('Under Investigation', 'Unverified')\n",
        "\n",
        "print(sharks)\n",
        "\n"
      ],
      "metadata": {
        "id": "2B2Eh36E_Rmx"
      },
      "id": "2B2Eh36E_Rmx",
      "execution_count": null,
      "outputs": []
    },
    {
      "cell_type": "code",
      "source": [
        "# 2.3\n",
        "\n",
        "import numpy as np\n",
        "import pandas as pd\n",
        "\n",
        "\n",
        "df = pd.read_csv('/content/assignment2/data/VirginiaPretrialData2017.csv' ,low_memory=False)\n",
        "\n",
        "# Renamed 'WhetherDefendantWasReleasedPretrial' to 'released' to be more concise\n",
        "df = df.rename(columns = {'WhetherDefendantWasReleasedPretrial':'released'})\n",
        "\n",
        "# Replaced empty cells when sentenceType = 9 with 'nan' because there is no data\n",
        "# available. The variable is binary, 0 represents not released and 1 represents\n",
        "# released, so keeping the 9 can cause confusion.\n",
        "df['released'] = df['released'].replace('9', np.nan)\n",
        "\n",
        "print(df['released'])"
      ],
      "metadata": {
        "id": "ccoh9HcaMOP0"
      },
      "id": "ccoh9HcaMOP0",
      "execution_count": null,
      "outputs": []
    },
    {
      "cell_type": "code",
      "source": [
        "# 2.4\n",
        "\n",
        "import numpy as np\n",
        "import pandas as pd\n",
        "\n",
        "df = pd.read_csv('/content/sample_data/VirginiaPretrialData2017.csv',low_memory=False)\n",
        "\n",
        "# Renamed variables to be more concise\n",
        "df = df.rename(columns = {'ImposedSentenceAllChargeInContactEvent':'imposedSent'})\n",
        "df = df.rename(columns = {'SentenceTypeAllChargesAtConvictionInContactEvent':'sentenceType'})\n",
        "\n",
        "# Replaced empty cells when sentenceType = 9 with 'nan' since the code\n",
        "# represented 'record not found' or 'unknown', which is the same as 'nan'.\n",
        "# Removing the 9 can make it clearer that the data is unknown.\n",
        "df.loc[df['sentenceType'] == 9, 'imposedSent'].replace(' ', np.nan)\n",
        "\n",
        "# Replaced empty cells when sentenceType = 4 with '0' since length of sentence\n",
        "# is essentially 0\n",
        "df.loc[df['sentenceType'] == 4, 'imposedSent'] = '0'\n",
        "\n",
        "print(df['imposedSent'], df['sentenceType'])"
      ],
      "metadata": {
        "id": "Iw6zgZ9rZfcc"
      },
      "id": "Iw6zgZ9rZfcc",
      "execution_count": null,
      "outputs": []
    },
    {
      "cell_type": "markdown",
      "id": "c11bcd96-2834-41a4-80fe-d354b4277fd9",
      "metadata": {
        "id": "c11bcd96-2834-41a4-80fe-d354b4277fd9"
      },
      "source": [
        "**Q3.** This question provides some practice doing exploratory data analysis and visualization.\n",
        "\n",
        "The \"relevant\" variables for this question are:\n",
        "  - `level` - Level of institution (4-year, 2-year)\n",
        "  - `aid_value` - The average amount of student aid going to undergraduate recipients\n",
        "  - `control` - Public, Private not-for-profit, Private for-profit\n",
        "  - `grad_100_value` - percentage of first-time, full-time, degree-seeking undergraduates who complete a degree or certificate program within 100 percent of expected time (bachelor's-seeking group at 4-year institutions)\n",
        "\n",
        "1. Load the `./data/college_completion.csv` data with Pandas.\n",
        "2. What are are the dimensions of the data? How many observations are there? What are the variables included? Use `.head()` to examine the first few rows of data.\n",
        "3. Cross tabulate `control` and `level`. Describe the patterns you see.\n",
        "4. For `grad_100_value`, create a histogram, kernel density plot, boxplot, and statistical description.\n",
        "5. For `grad_100_value`, create a grouped kernel density plot by `control` and by `level`. Describe what you see. Use `groupby` and `.describe` to make grouped calculations of statistical descriptions of `grad_100_value` by `level` and `control`. Which institutions appear to have the best graduation rates?\n",
        "6. Create a new variable, `df['levelXcontrol']=df['level']+', '+df['control']` that interacts level and control. Make a grouped kernel density plot. Which institutions appear to have the best graduation rates?\n",
        "7. Make a kernel density plot of `aid_value`. Notice that your graph is \"bi-modal\", having two little peaks that represent locally most common values. Now group your graph by `level` and `control`. What explains the bi-modal nature of the graph? Use `groupby` and `.describe` to make grouped calculations of statistical descriptions of `aid_value` by `level` and `control`.\n",
        "8. Make a scatterplot of `grad_100_value` by `aid_value`. Describe what you see. Now make the same plot, grouping by `level` and then `control`. Describe what you see. For which kinds of institutions does aid seem to increase graduation rates?"
      ]
    },
    {
      "cell_type": "markdown",
      "id": "98d34a3b-c21d-4dc9-a8d2-fb7686804ceb",
      "metadata": {
        "id": "98d34a3b-c21d-4dc9-a8d2-fb7686804ceb"
      },
      "source": [
        "**Q4.** This question uses the Airbnb data to practice making visualizations.\n",
        "\n",
        "  1. Load the `./data/airbnb_hw.csv` data with Pandas. You should have cleaned the `Price` variable in question 2, and you'll need it later for this question.\n",
        "  2. What are are the dimensions of the data? How many observations are there? What are the variables included? Use `.head()` to examine the first few rows of data.\n",
        "  3. Cross tabulate `Room Type` and `Property Type`. What patterns do you see in what kinds of rentals are available? For which kinds of properties are private rooms more common than renting the entire property?\n",
        "  4. For `Price`, make a histogram, kernel density, box plot, and a statistical description of the variable. Are the data badly scaled? Are there many outliers? Use `log` to transform price into a new variable, `price_log`, and take these steps again.\n",
        "  5. Make a scatterplot of `price_log` and `Beds`. Describe what you see. Use `.groupby()` to compute a desciption of `Price` conditional on/grouped by the number of beds. Describe any patterns you see in the average price and standard deviation in prices.\n",
        "  6. Make a scatterplot of `price_log` and `Beds`, but color the graph by `Room Type` and `Property Type`. What patterns do you see? Compute a description of `Price` conditional on `Room Type` and `Property Type`. Which Room Type and Property Type have the highest prices on average? Which have the highest standard deviation? Does the mean or median appear to be a more reliable estimate of central tendency, and explain why?\n",
        "  7. We've looked a bit at this `price_log` and `Beds` scatterplot. Use seaborn to make a `jointplot` with `kind=hex`. Where are the data actually distributed? How does it affect the way you think about the plots in 5 and 6?"
      ]
    },
    {
      "cell_type": "markdown",
      "id": "649494cd-cfd6-4f80-992a-9994fc19e1d5",
      "metadata": {
        "id": "649494cd-cfd6-4f80-992a-9994fc19e1d5"
      },
      "source": [
        "**Q5.** Many important datasets contain a race variable, typically limited to a handful of values often including Black, White, Asian, Latino, and Indigenous. This question looks at data gathering efforts on this variable by the U.S. Federal government.\n",
        "\n",
        "1. How did the most recent US Census gather data on race?\n",
        "2. Why do we gather these data? What role do these kinds of data play in politics and society? Why does data quality matter?\n",
        "3. Please provide a constructive criticism of how the Census was conducted: What was done well? What do you think was missing? How should future large scale surveys be adjusted to best reflect the diversity of the population? Could some of the Census' good practices be adopted more widely to gather richer and more useful data?\n",
        "4. How did the Census gather data on sex and gender? Please provide a similar constructive criticism of their practices.\n",
        "5. When it comes to cleaning data, what concerns do you have about protected characteristics like sex, gender, sexual identity, or race? What challenges can you imagine arising when there are missing values? What good or bad practices might people adopt, and why?\n",
        "6. Suppose someone invented an algorithm to impute values for protected characteristics like race, gender, sex, or sexuality. What kinds of concerns would you have?"
      ]
    },
    {
      "cell_type": "markdown",
      "source": [
        "\n",
        "\n",
        "1.   The most recent US Census gathered data on race by sending a questionare to every household in the US.  People were asked to self-identify what race and ethnicity they believed they were.  For those that didn't answer there was a follow-up process where census enumerators went in-person to ask for an answer.\n",
        "\n",
        "2.    We gather these data to formulate statistics in regards to race, and provide estimates for how the U.S. population have changed over time.\n",
        "\n",
        "      In politics and society, these data are important factors in forming policies, especially those regarding civil rights. The data is used when deciding the distribution of funding for government programs, and is also used when evaluating the effects of such programs to ensure the goals of thier efforts are being reached.\n",
        "\n",
        "      Data quality matters because accuracy is vital for giving fair representation to all groups. Inaccurate data can lead to the misallocation of resources. Ensuring high quality data also garners the trust of the general population and encourages people to respond truthfully to the census.\n",
        "\n",
        "3.    After reviewing the US Census, I feel there were many things it did well.  First, it had multilingual support that showed they made efforts to reach more of the population and recognized that English was not the only spoken language.  It also made it conveninet to fill it out by offering a digital response option. Allowing multiple responses for race and ethnivity shows the recognition towards mixed race individuals as well as others that may have a less intuitive background.\n",
        "\n",
        "      On the other hand, a few improvements would be to collect data more frequently. Using data that is collected only once a decade can limit the ability to reflect the current population. Additionally, they could explore alternative forms of data collection to actively include those who may have limited access to survey means.\n",
        "\n",
        "      Future large scale surveys can be adjusted to reflect the diversity of the population by continuing to offer a wider variety of inclusive questions and options.\n",
        "\n",
        "      Some good practices that the US Census uses that can be adapted more widely for good data collection are multilingual support, the privacy of their respondents, and having context of the current pool of respondents.\n",
        "\n",
        "4.  The 2020 US Census gathers data on sex through a binary response of either male or female and did not ask a specific question on their gender identity.\n",
        "\n",
        "    Over the past decade, the conversation surrounding gender and gender as a social construct has gained significant awareness. The census could be improved by acknowledging the importance and complexities of gender identity, an aspect that is extremely relevant in today's cultural society. Overlooking this information can be harmful in examining the country's individuals and thier needs.\n",
        "\n",
        "5.  A couple concerns in cleaning protected data with characteristics like sex, gender, and race are ensuring the security and privacy of such responses and the respondents. It is also important to recognize and combat the rise of potential biases in not only how the data is cleaned, but how the data was collected intially.\n",
        "\n",
        "      With missing values, a challenge that may arise is considering how to continue to produce accurate results with the current data. It can be difficult to come to a percise conclusion when there may be certain factors that are not accounted for.\n",
        "\n",
        "      Good practices would include recognizing the possibility for missing or inaccurate data and how that may affect the results. Offering disclaimers and being transparent about data cleaning decisions will also help mininterpreting information. Bad practices would include completely excluding or disregarding uncommon entries or falsifying data to fit a set of constraints\n",
        "\n",
        "6.  A concern I would have would be about the construction of the algorithm. Algorithtims often rely on patterns and correlations in the data to impute values, which can lead to inaccurate assumptions, create stereotypes, and perpetuate bias.  Also imputing values on someones behalf might not account for the context of nuances behind a specific variable. I would also be concerned about the privacy and identity of the respondents if the algorithms does not accurate reflect their response.\n"
      ],
      "metadata": {
        "id": "rBPWytZMfAE-"
      },
      "id": "rBPWytZMfAE-"
    },
    {
      "cell_type": "markdown",
      "id": "2f38f2fd-6381-481d-bba9-017f3d363426",
      "metadata": {
        "id": "2f38f2fd-6381-481d-bba9-017f3d363426"
      },
      "source": [
        "**Q6.** Open the `./data/CBO_data.pdf` file. This contains tax data for 2019, explaining where the money comes from that the U.S. Federal Government Spends in terms of taxation on individuals/families and payroll taxes (the amount that your employer pays in taxes on your wages).\n",
        "\n",
        "For some context, the Federal government ultimately spent about $4.4 trillion in 2019, which was 21% of GDP (the total monetary value of all goods and services produced within the United States). Individual Income Taxes is the amount individuals pay on their wages to the Federal government, Corporate Income Taxes is the taxes individuals pay on capital gains from investment when they sell stock or other financial instruments, Payroll Taxes is the tax your employer pays on your wages, Excises and Customs Duties are taxes on goods or services like sin taxes on cigarettes or alcohol, and Estate and Gift Taxes are taxes paid on transfers of wealth to other people.\n",
        "\n",
        "1. Get the Millions of Families and Billions of Dollars data into a .csv file and load it with Pandas.\n",
        "2. Create a bar plot of individual income taxes by income decile. Explain what the graph shows. Why are some values negative?\n",
        "3. Create a bar plot of Total Federal Taxes by income decile. Which deciles are paying net positive amounts, and which are paying net negative amounts?\n",
        "4. Create a stacked bar plot for which Total Federal Taxes is grouped by Individual Income Taxes, Payroll Taxes, Excises and Customs Duties, and Estate and Gift Taxes. How does the share of taxes paid vary across the adjusted income deciles? (Hint: Are these the kind of data you want to melt?)\n",
        "5. Below the Total line for Millions of Families and Billions of Dollars, there are data for the richest of the richest families. Plot this alongside the bars for the deciles above the Total line. Describe your results.\n",
        "6. Get the Percent Distribution data into a .csv file and load it with Pandas. Create a bar graph of Total Federal Taxes by income decile.\n",
        "7. A tax system is progressive if higher-income and wealthier individuals pay more than lower-income and less wealthy individuals, and it is regressive if the opposite is true. Is the U.S. tax system progressive in terms of amount paid? In terms of the percentage of the overall total?\n",
        "8. Do the rich pay enough in taxes? Defend your answer."
      ]
    }
  ],
  "metadata": {
    "kernelspec": {
      "display_name": "Python 3 (ipykernel)",
      "language": "python",
      "name": "python3"
    },
    "language_info": {
      "codemirror_mode": {
        "name": "ipython",
        "version": 3
      },
      "file_extension": ".py",
      "mimetype": "text/x-python",
      "name": "python",
      "nbconvert_exporter": "python",
      "pygments_lexer": "ipython3",
      "version": "3.10.4"
    },
    "colab": {
      "provenance": [],
      "include_colab_link": true
    }
  },
  "nbformat": 4,
  "nbformat_minor": 5
}